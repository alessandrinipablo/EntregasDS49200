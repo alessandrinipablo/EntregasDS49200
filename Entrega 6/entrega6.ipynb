{
 "cells": [
  {
   "cell_type": "markdown",
   "metadata": {},
   "source": [
    "*     Primer entrega del Proyecto Final"
   ]
  },
  {
   "cell_type": "markdown",
   "metadata": {},
   "source": [
    "*    _INTRODUCCION Y OBJETIVOS DEL ANALISIS DE DATOS_"
   ]
  },
  {
   "cell_type": "markdown",
   "metadata": {},
   "source": [
    "*   El fútbol genera grandes cantidades de datos sobre los jugadores y sus características. En este análisis, nos enfocaremos  en explorar las características de los futbolistas entre 2021 y 2022 a nivel mundial. \n",
    "*   El objetivo principal es comprender estas características y su posible influencia en el rendimiento de los jugadores y equipos.\n",
    "*   Siempre teniendo en cuenta que como objetivo final, trataremos de predecir los valores actuales, o comunmente llamado \"el valor del pase de cada jugador\".\n",
    "*    Esperamos obtener conocimientos valiosos que beneficien a entrenadores, directores técnicos y analistas deportivos."
   ]
  },
  {
   "cell_type": "markdown",
   "metadata": {},
   "source": [
    "*   *ABSTRACTO*"
   ]
  },
  {
   "cell_type": "markdown",
   "metadata": {},
   "source": [
    "\n",
    "*   Este estudio analiza datos de jugadores de fútbol entre 2021 y 2022, enfocándose en sus características y su impacto en el rendimiento. Buscamos identificar patrones y factores influyentes en el desempeño de los jugadores. Los resultados tienen como objetivo beneficiar a profesionales del fútbol en la toma de decisiones estratégicas y el desarrollo de equipos exitosos."
   ]
  },
  {
   "cell_type": "markdown",
   "metadata": {},
   "source": [
    "*  _ANALISIS EXPLORATORIO DE DATOS_"
   ]
  },
  {
   "cell_type": "markdown",
   "metadata": {},
   "source": [
    "*  El análisis exploratorio de datos (EDA) nos brinda la oportunidad de sumergirnos en el universo de datos que abarca el apasionante mundo del fútbol desde una perspectiva analítica. A través de una serie de preguntas clave, exploraremos distintos aspectos del rendimiento de jugadores y equipos. Nos enfocaremos en comprender la relación entre la edad de los jugadores y su éxito en la obtención de premios, así como en analizar cómo esta variable influye en su desempeño y valoración en el mercado. Estas preguntas nos servirán de guía para entender cómo diversas características impactan en el panorama futbolístico."
   ]
  },
  {
   "cell_type": "markdown",
   "metadata": {},
   "source": [
    "*   *Preguntas/Hipótesis*"
   ]
  },
  {
   "cell_type": "markdown",
   "metadata": {},
   "source": [
    "*       1-Identificar al jugador con el total combinado más alto de goles y asistencias.\n",
    "*       2-Encontrar al equipo con la mayor proporción de tarjetas rojas respecto a los minutos jugados.\n",
    "*       3-Explorar la relación entre la edad y el número de premios ganados por los jugadores.\n",
    "*       4-Investigar como influye la edad, y el valor actual del jugador, por posicion, en un equipo de futbol."
   ]
  },
  {
   "cell_type": "markdown",
   "metadata": {},
   "source": [
    "-------------------------------------------------------------------------------------------------------------"
   ]
  },
  {
   "cell_type": "markdown",
   "metadata": {},
   "source": [
    "*   _CARGA DE DATOS_"
   ]
  },
  {
   "cell_type": "code",
   "execution_count": 1,
   "metadata": {},
   "outputs": [
    {
     "data": {
      "text/html": [
       "<div>\n",
       "<style scoped>\n",
       "    .dataframe tbody tr th:only-of-type {\n",
       "        vertical-align: middle;\n",
       "    }\n",
       "\n",
       "    .dataframe tbody tr th {\n",
       "        vertical-align: top;\n",
       "    }\n",
       "\n",
       "    .dataframe thead th {\n",
       "        text-align: right;\n",
       "    }\n",
       "</style>\n",
       "<table border=\"1\" class=\"dataframe\">\n",
       "  <thead>\n",
       "    <tr style=\"text-align: right;\">\n",
       "      <th></th>\n",
       "      <th>Equipo</th>\n",
       "      <th>Nombre</th>\n",
       "      <th>Posicion</th>\n",
       "      <th>Altura</th>\n",
       "      <th>Edad</th>\n",
       "      <th>Apariciones</th>\n",
       "      <th>Goles</th>\n",
       "      <th>Asistencias</th>\n",
       "      <th>Tarjetas Amarillas</th>\n",
       "      <th>2da Tarjeta Amarillas</th>\n",
       "      <th>...</th>\n",
       "      <th>Goles Concedidos</th>\n",
       "      <th>Valla Invicta</th>\n",
       "      <th>Minutos Jugados</th>\n",
       "      <th>Dias De baja por Lesion</th>\n",
       "      <th>Partidos Perdidos por Lesion</th>\n",
       "      <th>Premios</th>\n",
       "      <th>Valor Actual</th>\n",
       "      <th>Valor Maximo</th>\n",
       "      <th>Posicion Numero</th>\n",
       "      <th>Extremo</th>\n",
       "    </tr>\n",
       "  </thead>\n",
       "  <tbody>\n",
       "    <tr>\n",
       "      <th>0</th>\n",
       "      <td>Manchester United</td>\n",
       "      <td>David de Gea</td>\n",
       "      <td>Goalkeeper</td>\n",
       "      <td>189.0</td>\n",
       "      <td>32.0</td>\n",
       "      <td>104</td>\n",
       "      <td>0.0</td>\n",
       "      <td>0.0</td>\n",
       "      <td>0.009585</td>\n",
       "      <td>0.0</td>\n",
       "      <td>...</td>\n",
       "      <td>1.217252</td>\n",
       "      <td>0.335463</td>\n",
       "      <td>9390</td>\n",
       "      <td>42</td>\n",
       "      <td>5</td>\n",
       "      <td>13</td>\n",
       "      <td>15000000</td>\n",
       "      <td>70000000</td>\n",
       "      <td>1</td>\n",
       "      <td>0</td>\n",
       "    </tr>\n",
       "    <tr>\n",
       "      <th>1</th>\n",
       "      <td>Manchester United</td>\n",
       "      <td>Jack Butland</td>\n",
       "      <td>Goalkeeper</td>\n",
       "      <td>196.0</td>\n",
       "      <td>30.0</td>\n",
       "      <td>15</td>\n",
       "      <td>0.0</td>\n",
       "      <td>0.0</td>\n",
       "      <td>0.069018</td>\n",
       "      <td>0.0</td>\n",
       "      <td>...</td>\n",
       "      <td>1.242331</td>\n",
       "      <td>0.207055</td>\n",
       "      <td>1304</td>\n",
       "      <td>510</td>\n",
       "      <td>58</td>\n",
       "      <td>1</td>\n",
       "      <td>1500000</td>\n",
       "      <td>22000000</td>\n",
       "      <td>1</td>\n",
       "      <td>0</td>\n",
       "    </tr>\n",
       "  </tbody>\n",
       "</table>\n",
       "<p>2 rows × 21 columns</p>\n",
       "</div>"
      ],
      "text/plain": [
       "              Equipo        Nombre    Posicion  Altura  Edad  Apariciones  \\\n",
       "0  Manchester United  David de Gea  Goalkeeper   189.0  32.0          104   \n",
       "1  Manchester United  Jack Butland  Goalkeeper   196.0  30.0           15   \n",
       "\n",
       "   Goles  Asistencias  Tarjetas Amarillas  2da Tarjeta Amarillas  ...  \\\n",
       "0    0.0          0.0            0.009585                    0.0  ...   \n",
       "1    0.0          0.0            0.069018                    0.0  ...   \n",
       "\n",
       "   Goles Concedidos  Valla Invicta  Minutos Jugados  Dias De baja por Lesion  \\\n",
       "0          1.217252       0.335463             9390                       42   \n",
       "1          1.242331       0.207055             1304                      510   \n",
       "\n",
       "   Partidos Perdidos por Lesion  Premios  Valor Actual  Valor Maximo  \\\n",
       "0                             5       13      15000000      70000000   \n",
       "1                            58        1       1500000      22000000   \n",
       "\n",
       "   Posicion Numero  Extremo  \n",
       "0                1        0  \n",
       "1                1        0  \n",
       "\n",
       "[2 rows x 21 columns]"
      ]
     },
     "execution_count": 1,
     "metadata": {},
     "output_type": "execute_result"
    }
   ],
   "source": [
    "# importo la libreria pandas para leer el dataframe\n",
    "import pandas as pd \n",
    "#Lectura del DF\n",
    "df=pd.read_csv(\"./data.csv\")\n",
    "df.head(2)"
   ]
  },
  {
   "cell_type": "markdown",
   "metadata": {},
   "source": [
    "*   _ESTRUCTURA, Y ANALISIS ESTADISTICO  DEL DF_"
   ]
  },
  {
   "cell_type": "code",
   "execution_count": 3,
   "metadata": {},
   "outputs": [
    {
     "name": "stdout",
     "output_type": "stream",
     "text": [
      "=== Estructura del DataFrame ===\n",
      "<class 'pandas.core.frame.DataFrame'>\n",
      "RangeIndex: 10754 entries, 0 to 10753\n",
      "Data columns (total 21 columns):\n",
      " #   Column                        Non-Null Count  Dtype  \n",
      "---  ------                        --------------  -----  \n",
      " 0   Equipo                        10754 non-null  object \n",
      " 1   Nombre                        10754 non-null  object \n",
      " 2   Posicion                      10754 non-null  object \n",
      " 3   Altura                        10754 non-null  float64\n",
      " 4   Edad                          10754 non-null  float64\n",
      " 5   Apariciones                   10754 non-null  int64  \n",
      " 6   Goles                         10754 non-null  float64\n",
      " 7   Asistencias                   10754 non-null  float64\n",
      " 8   Tarjetas Amarillas            10754 non-null  float64\n",
      " 9   2da Tarjeta Amarillas         10754 non-null  float64\n",
      " 10  Tarjetas Rojas                10754 non-null  float64\n",
      " 11  Goles Concedidos              10754 non-null  float64\n",
      " 12  Valla Invicta                 10754 non-null  float64\n",
      " 13  Minutos Jugados               10754 non-null  int64  \n",
      " 14  Dias De baja por Lesion       10754 non-null  int64  \n",
      " 15  Partidos Perdidos por Lesion  10754 non-null  int64  \n",
      " 16  Premios                       10754 non-null  int64  \n",
      " 17  Valor Actual                  10754 non-null  int64  \n",
      " 18  Valor Maximo                  10754 non-null  int64  \n",
      " 19  Posicion Numero               10754 non-null  int64  \n",
      " 20  Extremo                       10754 non-null  int64  \n",
      "dtypes: float64(9), int64(9), object(3)\n",
      "memory usage: 1.7+ MB\n",
      "None\n"
     ]
    }
   ],
   "source": [
    "# Estructura del DF\n",
    "print(\"=== Estructura del DataFrame ===\")\n",
    "print(df.info())\n"
   ]
  },
  {
   "cell_type": "code",
   "execution_count": 4,
   "metadata": {},
   "outputs": [
    {
     "name": "stdout",
     "output_type": "stream",
     "text": [
      "=== Descripción Estadística ===\n"
     ]
    },
    {
     "data": {
      "text/html": [
       "<div>\n",
       "<style scoped>\n",
       "    .dataframe tbody tr th:only-of-type {\n",
       "        vertical-align: middle;\n",
       "    }\n",
       "\n",
       "    .dataframe tbody tr th {\n",
       "        vertical-align: top;\n",
       "    }\n",
       "\n",
       "    .dataframe thead th {\n",
       "        text-align: right;\n",
       "    }\n",
       "</style>\n",
       "<table border=\"1\" class=\"dataframe\">\n",
       "  <thead>\n",
       "    <tr style=\"text-align: right;\">\n",
       "      <th></th>\n",
       "      <th>Altura</th>\n",
       "      <th>Edad</th>\n",
       "      <th>Apariciones</th>\n",
       "      <th>Goles</th>\n",
       "      <th>Asistencias</th>\n",
       "      <th>Tarjetas Amarillas</th>\n",
       "      <th>2da Tarjeta Amarillas</th>\n",
       "      <th>Tarjetas Rojas</th>\n",
       "      <th>Goles Concedidos</th>\n",
       "      <th>Valla Invicta</th>\n",
       "      <th>Minutos Jugados</th>\n",
       "      <th>Dias De baja por Lesion</th>\n",
       "      <th>Partidos Perdidos por Lesion</th>\n",
       "      <th>Premios</th>\n",
       "      <th>Valor Actual</th>\n",
       "      <th>Valor Maximo</th>\n",
       "      <th>Posicion Numero</th>\n",
       "      <th>Extremo</th>\n",
       "    </tr>\n",
       "  </thead>\n",
       "  <tbody>\n",
       "    <tr>\n",
       "      <th>count</th>\n",
       "      <td>10754.0</td>\n",
       "      <td>10754.0</td>\n",
       "      <td>10754.0</td>\n",
       "      <td>10754.0</td>\n",
       "      <td>10754.0</td>\n",
       "      <td>10754.0</td>\n",
       "      <td>10754.0</td>\n",
       "      <td>10754.0</td>\n",
       "      <td>10754.0</td>\n",
       "      <td>10754.0</td>\n",
       "      <td>10754.0</td>\n",
       "      <td>10754.0</td>\n",
       "      <td>10754.0</td>\n",
       "      <td>10754.0</td>\n",
       "      <td>10754.0</td>\n",
       "      <td>10754.0</td>\n",
       "      <td>10754.0</td>\n",
       "      <td>10754.0</td>\n",
       "    </tr>\n",
       "    <tr>\n",
       "      <th>mean</th>\n",
       "      <td>181.0</td>\n",
       "      <td>26.0</td>\n",
       "      <td>36.0</td>\n",
       "      <td>0.0</td>\n",
       "      <td>0.0</td>\n",
       "      <td>0.0</td>\n",
       "      <td>0.0</td>\n",
       "      <td>0.0</td>\n",
       "      <td>0.0</td>\n",
       "      <td>0.0</td>\n",
       "      <td>2471.0</td>\n",
       "      <td>118.0</td>\n",
       "      <td>16.0</td>\n",
       "      <td>2.0</td>\n",
       "      <td>3622971.0</td>\n",
       "      <td>6152606.0</td>\n",
       "      <td>3.0</td>\n",
       "      <td>0.0</td>\n",
       "    </tr>\n",
       "    <tr>\n",
       "      <th>std</th>\n",
       "      <td>7.0</td>\n",
       "      <td>5.0</td>\n",
       "      <td>27.0</td>\n",
       "      <td>0.0</td>\n",
       "      <td>0.0</td>\n",
       "      <td>0.0</td>\n",
       "      <td>0.0</td>\n",
       "      <td>0.0</td>\n",
       "      <td>0.0</td>\n",
       "      <td>1.0</td>\n",
       "      <td>2022.0</td>\n",
       "      <td>175.0</td>\n",
       "      <td>23.0</td>\n",
       "      <td>4.0</td>\n",
       "      <td>9095410.0</td>\n",
       "      <td>13389876.0</td>\n",
       "      <td>1.0</td>\n",
       "      <td>0.0</td>\n",
       "    </tr>\n",
       "    <tr>\n",
       "      <th>min</th>\n",
       "      <td>156.0</td>\n",
       "      <td>15.0</td>\n",
       "      <td>0.0</td>\n",
       "      <td>0.0</td>\n",
       "      <td>0.0</td>\n",
       "      <td>0.0</td>\n",
       "      <td>0.0</td>\n",
       "      <td>0.0</td>\n",
       "      <td>0.0</td>\n",
       "      <td>0.0</td>\n",
       "      <td>0.0</td>\n",
       "      <td>0.0</td>\n",
       "      <td>0.0</td>\n",
       "      <td>0.0</td>\n",
       "      <td>0.0</td>\n",
       "      <td>0.0</td>\n",
       "      <td>1.0</td>\n",
       "      <td>0.0</td>\n",
       "    </tr>\n",
       "    <tr>\n",
       "      <th>25%</th>\n",
       "      <td>176.0</td>\n",
       "      <td>22.0</td>\n",
       "      <td>12.0</td>\n",
       "      <td>0.0</td>\n",
       "      <td>0.0</td>\n",
       "      <td>0.0</td>\n",
       "      <td>0.0</td>\n",
       "      <td>0.0</td>\n",
       "      <td>0.0</td>\n",
       "      <td>0.0</td>\n",
       "      <td>660.0</td>\n",
       "      <td>0.0</td>\n",
       "      <td>0.0</td>\n",
       "      <td>0.0</td>\n",
       "      <td>300000.0</td>\n",
       "      <td>450000.0</td>\n",
       "      <td>2.0</td>\n",
       "      <td>0.0</td>\n",
       "    </tr>\n",
       "    <tr>\n",
       "      <th>50%</th>\n",
       "      <td>181.0</td>\n",
       "      <td>26.0</td>\n",
       "      <td>35.0</td>\n",
       "      <td>0.0</td>\n",
       "      <td>0.0</td>\n",
       "      <td>0.0</td>\n",
       "      <td>0.0</td>\n",
       "      <td>0.0</td>\n",
       "      <td>0.0</td>\n",
       "      <td>0.0</td>\n",
       "      <td>2102.0</td>\n",
       "      <td>37.0</td>\n",
       "      <td>5.0</td>\n",
       "      <td>1.0</td>\n",
       "      <td>800000.0</td>\n",
       "      <td>1500000.0</td>\n",
       "      <td>3.0</td>\n",
       "      <td>0.0</td>\n",
       "    </tr>\n",
       "    <tr>\n",
       "      <th>75%</th>\n",
       "      <td>186.0</td>\n",
       "      <td>29.0</td>\n",
       "      <td>59.0</td>\n",
       "      <td>0.0</td>\n",
       "      <td>0.0</td>\n",
       "      <td>0.0</td>\n",
       "      <td>0.0</td>\n",
       "      <td>0.0</td>\n",
       "      <td>0.0</td>\n",
       "      <td>0.0</td>\n",
       "      <td>3968.0</td>\n",
       "      <td>181.0</td>\n",
       "      <td>24.0</td>\n",
       "      <td>2.0</td>\n",
       "      <td>3000000.0</td>\n",
       "      <td>5000000.0</td>\n",
       "      <td>4.0</td>\n",
       "      <td>1.0</td>\n",
       "    </tr>\n",
       "    <tr>\n",
       "      <th>max</th>\n",
       "      <td>206.0</td>\n",
       "      <td>43.0</td>\n",
       "      <td>107.0</td>\n",
       "      <td>11.0</td>\n",
       "      <td>4.0</td>\n",
       "      <td>30.0</td>\n",
       "      <td>1.0</td>\n",
       "      <td>7.0</td>\n",
       "      <td>9.0</td>\n",
       "      <td>90.0</td>\n",
       "      <td>9510.0</td>\n",
       "      <td>2349.0</td>\n",
       "      <td>339.0</td>\n",
       "      <td>92.0</td>\n",
       "      <td>180000000.0</td>\n",
       "      <td>200000000.0</td>\n",
       "      <td>4.0</td>\n",
       "      <td>1.0</td>\n",
       "    </tr>\n",
       "  </tbody>\n",
       "</table>\n",
       "</div>"
      ],
      "text/plain": [
       "        Altura     Edad  Apariciones    Goles  Asistencias  \\\n",
       "count  10754.0  10754.0      10754.0  10754.0      10754.0   \n",
       "mean     181.0     26.0         36.0      0.0          0.0   \n",
       "std        7.0      5.0         27.0      0.0          0.0   \n",
       "min      156.0     15.0          0.0      0.0          0.0   \n",
       "25%      176.0     22.0         12.0      0.0          0.0   \n",
       "50%      181.0     26.0         35.0      0.0          0.0   \n",
       "75%      186.0     29.0         59.0      0.0          0.0   \n",
       "max      206.0     43.0        107.0     11.0          4.0   \n",
       "\n",
       "       Tarjetas Amarillas  2da Tarjeta Amarillas  Tarjetas Rojas  \\\n",
       "count             10754.0                10754.0         10754.0   \n",
       "mean                  0.0                    0.0             0.0   \n",
       "std                   0.0                    0.0             0.0   \n",
       "min                   0.0                    0.0             0.0   \n",
       "25%                   0.0                    0.0             0.0   \n",
       "50%                   0.0                    0.0             0.0   \n",
       "75%                   0.0                    0.0             0.0   \n",
       "max                  30.0                    1.0             7.0   \n",
       "\n",
       "       Goles Concedidos  Valla Invicta  Minutos Jugados  \\\n",
       "count           10754.0        10754.0          10754.0   \n",
       "mean                0.0            0.0           2471.0   \n",
       "std                 0.0            1.0           2022.0   \n",
       "min                 0.0            0.0              0.0   \n",
       "25%                 0.0            0.0            660.0   \n",
       "50%                 0.0            0.0           2102.0   \n",
       "75%                 0.0            0.0           3968.0   \n",
       "max                 9.0           90.0           9510.0   \n",
       "\n",
       "       Dias De baja por Lesion  Partidos Perdidos por Lesion  Premios  \\\n",
       "count                  10754.0                       10754.0  10754.0   \n",
       "mean                     118.0                          16.0      2.0   \n",
       "std                      175.0                          23.0      4.0   \n",
       "min                        0.0                           0.0      0.0   \n",
       "25%                        0.0                           0.0      0.0   \n",
       "50%                       37.0                           5.0      1.0   \n",
       "75%                      181.0                          24.0      2.0   \n",
       "max                     2349.0                         339.0     92.0   \n",
       "\n",
       "       Valor Actual  Valor Maximo  Posicion Numero  Extremo  \n",
       "count       10754.0       10754.0          10754.0  10754.0  \n",
       "mean      3622971.0     6152606.0              3.0      0.0  \n",
       "std       9095410.0    13389876.0              1.0      0.0  \n",
       "min             0.0           0.0              1.0      0.0  \n",
       "25%        300000.0      450000.0              2.0      0.0  \n",
       "50%        800000.0     1500000.0              3.0      0.0  \n",
       "75%       3000000.0     5000000.0              4.0      1.0  \n",
       "max     180000000.0   200000000.0              4.0      1.0  "
      ]
     },
     "execution_count": 4,
     "metadata": {},
     "output_type": "execute_result"
    }
   ],
   "source": [
    "print(\"=== Descripción Estadística ===\")\n",
    "df.describe().round(0)\n"
   ]
  },
  {
   "cell_type": "code",
   "execution_count": 5,
   "metadata": {},
   "outputs": [
    {
     "name": "stdout",
     "output_type": "stream",
     "text": [
      "=== Estadísticas por Columna ===\n"
     ]
    },
    {
     "data": {
      "text/html": [
       "<div>\n",
       "<style scoped>\n",
       "    .dataframe tbody tr th:only-of-type {\n",
       "        vertical-align: middle;\n",
       "    }\n",
       "\n",
       "    .dataframe tbody tr th {\n",
       "        vertical-align: top;\n",
       "    }\n",
       "\n",
       "    .dataframe thead th {\n",
       "        text-align: right;\n",
       "    }\n",
       "</style>\n",
       "<table border=\"1\" class=\"dataframe\">\n",
       "  <thead>\n",
       "    <tr style=\"text-align: right;\">\n",
       "      <th></th>\n",
       "      <th>count</th>\n",
       "      <th>mean</th>\n",
       "      <th>std</th>\n",
       "      <th>min</th>\n",
       "      <th>25%</th>\n",
       "      <th>50%</th>\n",
       "      <th>75%</th>\n",
       "      <th>max</th>\n",
       "    </tr>\n",
       "  </thead>\n",
       "  <tbody>\n",
       "    <tr>\n",
       "      <th>Altura</th>\n",
       "      <td>10754.0</td>\n",
       "      <td>1.812404e+02</td>\n",
       "      <td>6.969818e+00</td>\n",
       "      <td>156.0</td>\n",
       "      <td>176.000000</td>\n",
       "      <td>1.812404e+02</td>\n",
       "      <td>1.860000e+02</td>\n",
       "      <td>2.060000e+02</td>\n",
       "    </tr>\n",
       "    <tr>\n",
       "      <th>Edad</th>\n",
       "      <td>10754.0</td>\n",
       "      <td>2.604190e+01</td>\n",
       "      <td>4.777629e+00</td>\n",
       "      <td>15.0</td>\n",
       "      <td>22.000000</td>\n",
       "      <td>2.600000e+01</td>\n",
       "      <td>2.900000e+01</td>\n",
       "      <td>4.300000e+01</td>\n",
       "    </tr>\n",
       "    <tr>\n",
       "      <th>Apariciones</th>\n",
       "      <td>10754.0</td>\n",
       "      <td>3.640701e+01</td>\n",
       "      <td>2.652654e+01</td>\n",
       "      <td>0.0</td>\n",
       "      <td>12.000000</td>\n",
       "      <td>3.500000e+01</td>\n",
       "      <td>5.900000e+01</td>\n",
       "      <td>1.070000e+02</td>\n",
       "    </tr>\n",
       "    <tr>\n",
       "      <th>Goles</th>\n",
       "      <td>10754.0</td>\n",
       "      <td>1.255543e-01</td>\n",
       "      <td>2.355851e-01</td>\n",
       "      <td>0.0</td>\n",
       "      <td>0.000000</td>\n",
       "      <td>4.596918e-02</td>\n",
       "      <td>1.722625e-01</td>\n",
       "      <td>1.125000e+01</td>\n",
       "    </tr>\n",
       "    <tr>\n",
       "      <th>Asistencias</th>\n",
       "      <td>10754.0</td>\n",
       "      <td>8.697765e-02</td>\n",
       "      <td>1.433513e-01</td>\n",
       "      <td>0.0</td>\n",
       "      <td>0.000000</td>\n",
       "      <td>4.077323e-02</td>\n",
       "      <td>1.331361e-01</td>\n",
       "      <td>4.000000e+00</td>\n",
       "    </tr>\n",
       "    <tr>\n",
       "      <th>Tarjetas Amarillas</th>\n",
       "      <td>10754.0</td>\n",
       "      <td>1.897572e-01</td>\n",
       "      <td>4.323879e-01</td>\n",
       "      <td>0.0</td>\n",
       "      <td>0.053191</td>\n",
       "      <td>1.502504e-01</td>\n",
       "      <td>2.482759e-01</td>\n",
       "      <td>3.000000e+01</td>\n",
       "    </tr>\n",
       "    <tr>\n",
       "      <th>2da Tarjeta Amarillas</th>\n",
       "      <td>10754.0</td>\n",
       "      <td>4.665667e-03</td>\n",
       "      <td>2.523200e-02</td>\n",
       "      <td>0.0</td>\n",
       "      <td>0.000000</td>\n",
       "      <td>0.000000e+00</td>\n",
       "      <td>0.000000e+00</td>\n",
       "      <td>1.000000e+00</td>\n",
       "    </tr>\n",
       "    <tr>\n",
       "      <th>Tarjetas Rojas</th>\n",
       "      <td>10754.0</td>\n",
       "      <td>6.826070e-03</td>\n",
       "      <td>8.114266e-02</td>\n",
       "      <td>0.0</td>\n",
       "      <td>0.000000</td>\n",
       "      <td>0.000000e+00</td>\n",
       "      <td>0.000000e+00</td>\n",
       "      <td>6.923077e+00</td>\n",
       "    </tr>\n",
       "    <tr>\n",
       "      <th>Goles Concedidos</th>\n",
       "      <td>10754.0</td>\n",
       "      <td>1.316555e-01</td>\n",
       "      <td>4.423355e-01</td>\n",
       "      <td>0.0</td>\n",
       "      <td>0.000000</td>\n",
       "      <td>0.000000e+00</td>\n",
       "      <td>0.000000e+00</td>\n",
       "      <td>9.000000e+00</td>\n",
       "    </tr>\n",
       "    <tr>\n",
       "      <th>Valla Invicta</th>\n",
       "      <td>10754.0</td>\n",
       "      <td>4.488090e-02</td>\n",
       "      <td>9.244373e-01</td>\n",
       "      <td>0.0</td>\n",
       "      <td>0.000000</td>\n",
       "      <td>0.000000e+00</td>\n",
       "      <td>0.000000e+00</td>\n",
       "      <td>9.000000e+01</td>\n",
       "    </tr>\n",
       "    <tr>\n",
       "      <th>Minutos Jugados</th>\n",
       "      <td>10754.0</td>\n",
       "      <td>2.470789e+03</td>\n",
       "      <td>2.021703e+03</td>\n",
       "      <td>0.0</td>\n",
       "      <td>660.000000</td>\n",
       "      <td>2.101500e+03</td>\n",
       "      <td>3.968000e+03</td>\n",
       "      <td>9.510000e+03</td>\n",
       "    </tr>\n",
       "    <tr>\n",
       "      <th>Dias De baja por Lesion</th>\n",
       "      <td>10754.0</td>\n",
       "      <td>1.179617e+02</td>\n",
       "      <td>1.752068e+02</td>\n",
       "      <td>0.0</td>\n",
       "      <td>0.000000</td>\n",
       "      <td>3.700000e+01</td>\n",
       "      <td>1.810000e+02</td>\n",
       "      <td>2.349000e+03</td>\n",
       "    </tr>\n",
       "    <tr>\n",
       "      <th>Partidos Perdidos por Lesion</th>\n",
       "      <td>10754.0</td>\n",
       "      <td>1.582630e+01</td>\n",
       "      <td>2.338361e+01</td>\n",
       "      <td>0.0</td>\n",
       "      <td>0.000000</td>\n",
       "      <td>5.000000e+00</td>\n",
       "      <td>2.400000e+01</td>\n",
       "      <td>3.390000e+02</td>\n",
       "    </tr>\n",
       "    <tr>\n",
       "      <th>Premios</th>\n",
       "      <td>10754.0</td>\n",
       "      <td>1.960759e+00</td>\n",
       "      <td>3.743936e+00</td>\n",
       "      <td>0.0</td>\n",
       "      <td>0.000000</td>\n",
       "      <td>1.000000e+00</td>\n",
       "      <td>2.000000e+00</td>\n",
       "      <td>9.200000e+01</td>\n",
       "    </tr>\n",
       "    <tr>\n",
       "      <th>Valor Actual</th>\n",
       "      <td>10754.0</td>\n",
       "      <td>3.622971e+06</td>\n",
       "      <td>9.095410e+06</td>\n",
       "      <td>0.0</td>\n",
       "      <td>300000.000000</td>\n",
       "      <td>8.000000e+05</td>\n",
       "      <td>3.000000e+06</td>\n",
       "      <td>1.800000e+08</td>\n",
       "    </tr>\n",
       "    <tr>\n",
       "      <th>Valor Maximo</th>\n",
       "      <td>10754.0</td>\n",
       "      <td>6.152606e+06</td>\n",
       "      <td>1.338988e+07</td>\n",
       "      <td>0.0</td>\n",
       "      <td>450000.000000</td>\n",
       "      <td>1.500000e+06</td>\n",
       "      <td>5.000000e+06</td>\n",
       "      <td>2.000000e+08</td>\n",
       "    </tr>\n",
       "    <tr>\n",
       "      <th>Posicion Numero</th>\n",
       "      <td>10754.0</td>\n",
       "      <td>2.713223e+00</td>\n",
       "      <td>9.863563e-01</td>\n",
       "      <td>1.0</td>\n",
       "      <td>2.000000</td>\n",
       "      <td>3.000000e+00</td>\n",
       "      <td>4.000000e+00</td>\n",
       "      <td>4.000000e+00</td>\n",
       "    </tr>\n",
       "    <tr>\n",
       "      <th>Extremo</th>\n",
       "      <td>10754.0</td>\n",
       "      <td>3.075135e-01</td>\n",
       "      <td>4.614854e-01</td>\n",
       "      <td>0.0</td>\n",
       "      <td>0.000000</td>\n",
       "      <td>0.000000e+00</td>\n",
       "      <td>1.000000e+00</td>\n",
       "      <td>1.000000e+00</td>\n",
       "    </tr>\n",
       "  </tbody>\n",
       "</table>\n",
       "</div>"
      ],
      "text/plain": [
       "                                count          mean           std    min  \\\n",
       "Altura                        10754.0  1.812404e+02  6.969818e+00  156.0   \n",
       "Edad                          10754.0  2.604190e+01  4.777629e+00   15.0   \n",
       "Apariciones                   10754.0  3.640701e+01  2.652654e+01    0.0   \n",
       "Goles                         10754.0  1.255543e-01  2.355851e-01    0.0   \n",
       "Asistencias                   10754.0  8.697765e-02  1.433513e-01    0.0   \n",
       "Tarjetas Amarillas            10754.0  1.897572e-01  4.323879e-01    0.0   \n",
       "2da Tarjeta Amarillas         10754.0  4.665667e-03  2.523200e-02    0.0   \n",
       "Tarjetas Rojas                10754.0  6.826070e-03  8.114266e-02    0.0   \n",
       "Goles Concedidos              10754.0  1.316555e-01  4.423355e-01    0.0   \n",
       "Valla Invicta                 10754.0  4.488090e-02  9.244373e-01    0.0   \n",
       "Minutos Jugados               10754.0  2.470789e+03  2.021703e+03    0.0   \n",
       "Dias De baja por Lesion       10754.0  1.179617e+02  1.752068e+02    0.0   \n",
       "Partidos Perdidos por Lesion  10754.0  1.582630e+01  2.338361e+01    0.0   \n",
       "Premios                       10754.0  1.960759e+00  3.743936e+00    0.0   \n",
       "Valor Actual                  10754.0  3.622971e+06  9.095410e+06    0.0   \n",
       "Valor Maximo                  10754.0  6.152606e+06  1.338988e+07    0.0   \n",
       "Posicion Numero               10754.0  2.713223e+00  9.863563e-01    1.0   \n",
       "Extremo                       10754.0  3.075135e-01  4.614854e-01    0.0   \n",
       "\n",
       "                                        25%           50%           75%  \\\n",
       "Altura                           176.000000  1.812404e+02  1.860000e+02   \n",
       "Edad                              22.000000  2.600000e+01  2.900000e+01   \n",
       "Apariciones                       12.000000  3.500000e+01  5.900000e+01   \n",
       "Goles                              0.000000  4.596918e-02  1.722625e-01   \n",
       "Asistencias                        0.000000  4.077323e-02  1.331361e-01   \n",
       "Tarjetas Amarillas                 0.053191  1.502504e-01  2.482759e-01   \n",
       "2da Tarjeta Amarillas              0.000000  0.000000e+00  0.000000e+00   \n",
       "Tarjetas Rojas                     0.000000  0.000000e+00  0.000000e+00   \n",
       "Goles Concedidos                   0.000000  0.000000e+00  0.000000e+00   \n",
       "Valla Invicta                      0.000000  0.000000e+00  0.000000e+00   \n",
       "Minutos Jugados                  660.000000  2.101500e+03  3.968000e+03   \n",
       "Dias De baja por Lesion            0.000000  3.700000e+01  1.810000e+02   \n",
       "Partidos Perdidos por Lesion       0.000000  5.000000e+00  2.400000e+01   \n",
       "Premios                            0.000000  1.000000e+00  2.000000e+00   \n",
       "Valor Actual                  300000.000000  8.000000e+05  3.000000e+06   \n",
       "Valor Maximo                  450000.000000  1.500000e+06  5.000000e+06   \n",
       "Posicion Numero                    2.000000  3.000000e+00  4.000000e+00   \n",
       "Extremo                            0.000000  0.000000e+00  1.000000e+00   \n",
       "\n",
       "                                       max  \n",
       "Altura                        2.060000e+02  \n",
       "Edad                          4.300000e+01  \n",
       "Apariciones                   1.070000e+02  \n",
       "Goles                         1.125000e+01  \n",
       "Asistencias                   4.000000e+00  \n",
       "Tarjetas Amarillas            3.000000e+01  \n",
       "2da Tarjeta Amarillas         1.000000e+00  \n",
       "Tarjetas Rojas                6.923077e+00  \n",
       "Goles Concedidos              9.000000e+00  \n",
       "Valla Invicta                 9.000000e+01  \n",
       "Minutos Jugados               9.510000e+03  \n",
       "Dias De baja por Lesion       2.349000e+03  \n",
       "Partidos Perdidos por Lesion  3.390000e+02  \n",
       "Premios                       9.200000e+01  \n",
       "Valor Actual                  1.800000e+08  \n",
       "Valor Maximo                  2.000000e+08  \n",
       "Posicion Numero               4.000000e+00  \n",
       "Extremo                       1.000000e+00  "
      ]
     },
     "execution_count": 5,
     "metadata": {},
     "output_type": "execute_result"
    }
   ],
   "source": [
    "# Estadísticas por columna\n",
    "print(\"=== Estadísticas por Columna ===\")\n",
    "# Estadísticas para columnas numéricas\n",
    "numeric_stats = df.describe().transpose()\n",
    "numeric_stats\n"
   ]
  },
  {
   "cell_type": "code",
   "execution_count": 6,
   "metadata": {},
   "outputs": [
    {
     "name": "stdout",
     "output_type": "stream",
     "text": [
      "=== Estadísticas para Columnas Categóricas ===\n"
     ]
    },
    {
     "data": {
      "text/html": [
       "<div>\n",
       "<style scoped>\n",
       "    .dataframe tbody tr th:only-of-type {\n",
       "        vertical-align: middle;\n",
       "    }\n",
       "\n",
       "    .dataframe tbody tr th {\n",
       "        vertical-align: top;\n",
       "    }\n",
       "\n",
       "    .dataframe thead th {\n",
       "        text-align: right;\n",
       "    }\n",
       "</style>\n",
       "<table border=\"1\" class=\"dataframe\">\n",
       "  <thead>\n",
       "    <tr style=\"text-align: right;\">\n",
       "      <th></th>\n",
       "      <th>Equipo</th>\n",
       "      <th>Nombre</th>\n",
       "      <th>Posicion</th>\n",
       "    </tr>\n",
       "  </thead>\n",
       "  <tbody>\n",
       "    <tr>\n",
       "      <th>count</th>\n",
       "      <td>10754</td>\n",
       "      <td>10754</td>\n",
       "      <td>10754</td>\n",
       "    </tr>\n",
       "    <tr>\n",
       "      <th>unique</th>\n",
       "      <td>374</td>\n",
       "      <td>10584</td>\n",
       "      <td>16</td>\n",
       "    </tr>\n",
       "    <tr>\n",
       "      <th>top</th>\n",
       "      <td>Daejeon Hana Citizen</td>\n",
       "      <td>Paulinho</td>\n",
       "      <td>Defender Centre-Back</td>\n",
       "    </tr>\n",
       "    <tr>\n",
       "      <th>freq</th>\n",
       "      <td>46</td>\n",
       "      <td>6</td>\n",
       "      <td>1821</td>\n",
       "    </tr>\n",
       "  </tbody>\n",
       "</table>\n",
       "</div>"
      ],
      "text/plain": [
       "                      Equipo    Nombre              Posicion\n",
       "count                  10754     10754                 10754\n",
       "unique                   374     10584                    16\n",
       "top     Daejeon Hana Citizen  Paulinho  Defender Centre-Back\n",
       "freq                      46         6                  1821"
      ]
     },
     "execution_count": 6,
     "metadata": {},
     "output_type": "execute_result"
    }
   ],
   "source": [
    "# Estadísticas para columnas categóricas\n",
    "categorical_stats = df.describe(include=['object'])\n",
    "print(\"=== Estadísticas para Columnas Categóricas ===\")\n",
    "categorical_stats"
   ]
  },
  {
   "cell_type": "markdown",
   "metadata": {},
   "source": [
    "------------------------------------------------------------------------------------------"
   ]
  },
  {
   "cell_type": "markdown",
   "metadata": {},
   "source": [
    "*   _ANALISIS EXPLORATORIO DE DATOS_"
   ]
  },
  {
   "cell_type": "markdown",
   "metadata": {},
   "source": [
    "*  Empezaremos a analizar las 4 preguntas que hicimos."
   ]
  },
  {
   "cell_type": "markdown",
   "metadata": {},
   "source": [
    "*       1-Identificar al jugador con el total combinado más alto de goles y asistencias."
   ]
  },
  {
   "cell_type": "code",
   "execution_count": 16,
   "metadata": {},
   "outputs": [
    {
     "name": "stdout",
     "output_type": "stream",
     "text": [
      "El jugador con la mayor combinación  de goles y asistencias es:\n",
      " 'Rakan Al-Dosari', con un total de 11.25 goles y asistencias.\n",
      "Información del jugador, equipo, edad y valor en USD:\n",
      "           Equipo  Edad  Valor Actual\n",
      "9239  Al-Raed SFC  21.0         50000\n"
     ]
    }
   ],
   "source": [
    "# 1. Identifico el jugador que tiene mayor combinación de goles con asistencias.\n",
    "\n",
    "# Agrupo por el nombre del jugador, calculo la suma de goles y asistencias, y ordeno de mayor a menor\n",
    "jugador_goles_asistencias = df.groupby('Nombre')[['Goles', 'Asistencias']].sum().sum(axis=1).sort_values(ascending=False)\n",
    "\n",
    "# Obtengo el jugador con la mayor combinación de goles y asistencias\n",
    "jugador_con_mas_goles_asistencias = jugador_goles_asistencias.idxmax()\n",
    "\n",
    "# creo una variable con el maximo del df jugador_goles_asistencia\n",
    "total_goles_asistencias = jugador_goles_asistencias.max()\n",
    "\n",
    "print(f\"El jugador con la mayor combinación  de goles y asistencias es:\\n '{jugador_con_mas_goles_asistencias}', con un total de {total_goles_asistencias} goles y asistencias.\")\n",
    "\n",
    "#  Obtengo el equipo, edad y valor actual del jugador encontrado\n",
    "# Filtrar el DataFrame original para obtener la información del jugador\n",
    "resultado_filtrado = df[df['Nombre'] == jugador_con_mas_goles_asistencias]\n",
    "\n",
    "# Muestro la información\n",
    "print(\"Información del jugador, equipo, edad y valor en USD:\")\n",
    "print(resultado_filtrado[['Equipo', 'Edad', 'Valor Actual']])\n"
   ]
  },
  {
   "cell_type": "markdown",
   "metadata": {},
   "source": [
    "*       2-Encontrar al equipo con la mayor proporción de tarjetas rojas respecto a los minutos jugados."
   ]
  },
  {
   "cell_type": "code",
   "execution_count": 15,
   "metadata": {},
   "outputs": [
    {
     "name": "stdout",
     "output_type": "stream",
     "text": [
      "Equipos con mayor proporción de tarjetas rojas respecto a los minutos jugados:\n"
     ]
    },
    {
     "data": {
      "text/html": [
       "<div>\n",
       "<style scoped>\n",
       "    .dataframe tbody tr th:only-of-type {\n",
       "        vertical-align: middle;\n",
       "    }\n",
       "\n",
       "    .dataframe tbody tr th {\n",
       "        vertical-align: top;\n",
       "    }\n",
       "\n",
       "    .dataframe thead th {\n",
       "        text-align: right;\n",
       "    }\n",
       "</style>\n",
       "<table border=\"1\" class=\"dataframe\">\n",
       "  <thead>\n",
       "    <tr style=\"text-align: right;\">\n",
       "      <th></th>\n",
       "      <th>Tarjetas Rojas</th>\n",
       "      <th>Minutos Jugados</th>\n",
       "      <th>Proporcion Tarjetas Rojas</th>\n",
       "    </tr>\n",
       "    <tr>\n",
       "      <th>Equipo</th>\n",
       "      <th></th>\n",
       "      <th></th>\n",
       "      <th></th>\n",
       "    </tr>\n",
       "  </thead>\n",
       "  <tbody>\n",
       "    <tr>\n",
       "      <th>Goiás Esporte Clube</th>\n",
       "      <td>7.077982</td>\n",
       "      <td>14920</td>\n",
       "      <td>0.000474</td>\n",
       "    </tr>\n",
       "    <tr>\n",
       "      <th>CA San Lorenzo de Almagro</th>\n",
       "      <td>1.630259</td>\n",
       "      <td>9456</td>\n",
       "      <td>0.000172</td>\n",
       "    </tr>\n",
       "    <tr>\n",
       "      <th>CA Sarmiento (Junin)</th>\n",
       "      <td>3.228311</td>\n",
       "      <td>20363</td>\n",
       "      <td>0.000159</td>\n",
       "    </tr>\n",
       "    <tr>\n",
       "      <th>CA River Plate</th>\n",
       "      <td>2.232102</td>\n",
       "      <td>20705</td>\n",
       "      <td>0.000108</td>\n",
       "    </tr>\n",
       "    <tr>\n",
       "      <th>Cruzeiro Esporte Clube</th>\n",
       "      <td>2.000000</td>\n",
       "      <td>28338</td>\n",
       "      <td>0.000071</td>\n",
       "    </tr>\n",
       "    <tr>\n",
       "      <th>Kawasaki Frontale</th>\n",
       "      <td>0.896372</td>\n",
       "      <td>19595</td>\n",
       "      <td>0.000046</td>\n",
       "    </tr>\n",
       "    <tr>\n",
       "      <th>Sociedade Esportiva Palmeiras</th>\n",
       "      <td>0.594630</td>\n",
       "      <td>13102</td>\n",
       "      <td>0.000045</td>\n",
       "    </tr>\n",
       "    <tr>\n",
       "      <th>CD Godoy Cruz Antonio Tomba</th>\n",
       "      <td>0.816646</td>\n",
       "      <td>19311</td>\n",
       "      <td>0.000042</td>\n",
       "    </tr>\n",
       "    <tr>\n",
       "      <th>Club Atlético Unión</th>\n",
       "      <td>0.687418</td>\n",
       "      <td>18304</td>\n",
       "      <td>0.000038</td>\n",
       "    </tr>\n",
       "    <tr>\n",
       "      <th>Hatayspor</th>\n",
       "      <td>0.988909</td>\n",
       "      <td>28367</td>\n",
       "      <td>0.000035</td>\n",
       "    </tr>\n",
       "  </tbody>\n",
       "</table>\n",
       "</div>"
      ],
      "text/plain": [
       "                               Tarjetas Rojas  Minutos Jugados  \\\n",
       "Equipo                                                           \n",
       "Goiás Esporte Clube                  7.077982            14920   \n",
       "CA San Lorenzo de Almagro            1.630259             9456   \n",
       "CA Sarmiento (Junin)                 3.228311            20363   \n",
       "CA River Plate                       2.232102            20705   \n",
       "Cruzeiro Esporte Clube               2.000000            28338   \n",
       "Kawasaki Frontale                    0.896372            19595   \n",
       "Sociedade Esportiva Palmeiras        0.594630            13102   \n",
       "CD Godoy Cruz Antonio Tomba          0.816646            19311   \n",
       "Club Atlético Unión                  0.687418            18304   \n",
       "Hatayspor                            0.988909            28367   \n",
       "\n",
       "                               Proporcion Tarjetas Rojas  \n",
       "Equipo                                                    \n",
       "Goiás Esporte Clube                             0.000474  \n",
       "CA San Lorenzo de Almagro                       0.000172  \n",
       "CA Sarmiento (Junin)                            0.000159  \n",
       "CA River Plate                                  0.000108  \n",
       "Cruzeiro Esporte Clube                          0.000071  \n",
       "Kawasaki Frontale                               0.000046  \n",
       "Sociedade Esportiva Palmeiras                   0.000045  \n",
       "CD Godoy Cruz Antonio Tomba                     0.000042  \n",
       "Club Atlético Unión                             0.000038  \n",
       "Hatayspor                                       0.000035  "
      ]
     },
     "execution_count": 15,
     "metadata": {},
     "output_type": "execute_result"
    }
   ],
   "source": [
    "# 2-Encontrar al equipo con la mayor proporción de tarjetas rojas respecto a los minutos jugados.\n",
    "\n",
    "# Selecciono columas\n",
    "df_rojas = df[['Equipo', 'Tarjetas Rojas', 'Minutos Jugados']]\n",
    "\n",
    "# Calcular la suma de tarjetas rojas y minutos jugados por equipo\n",
    "df_rojas_sum = df_rojas.groupby('Equipo').sum()\n",
    "\n",
    "# Calcular la proporción de tarjetas rojas respecto a los minutos jugados\n",
    "df_rojas_sum['Proporcion Tarjetas Rojas'] = df_rojas_sum['Tarjetas Rojas'] / df_rojas_sum['Minutos Jugados']\n",
    "\n",
    "# Ordenar por  tarjetas rojas de mayor a menor\n",
    "df_rojas_sum = df_rojas_sum.sort_values(by='Proporcion Tarjetas Rojas', ascending=False)\n",
    "\n",
    "# Muestro \n",
    "print(\"Equipos con mayor proporción de tarjetas rojas respecto a los minutos jugados:\")\n",
    "df_rojas_sum.head(10)\n"
   ]
  },
  {
   "cell_type": "code",
   "execution_count": 14,
   "metadata": {},
   "outputs": [],
   "source": [
    "# librerias para graficar\n",
    "import matplotlib.pyplot as plt\n",
    "import seaborn  as sns"
   ]
  },
  {
   "cell_type": "code",
   "execution_count": 17,
   "metadata": {},
   "outputs": [
    {
     "data": {
      "image/png": "[encoded data removed]",
      "text/plain": [
       "<Figure size 1000x600 with 1 Axes>"
      ]
     },
     "metadata": {},
     "output_type": "display_data"
    }
   ],
   "source": [
    "# Seleccionar los 10 primeros equipos con mayor proporción de tarjetas rojas respecto a los minutos jugados\n",
    "top_10_equipos = df_rojas_sum.head(10)\n",
    "\n",
    "# Crear el gráfico de barras horizontales\n",
    "plt.figure(figsize=(10, 6))\n",
    "plt.barh(top_10_equipos.index, top_10_equipos['Proporcion Tarjetas Rojas'], color='orange')\n",
    "\n",
    "plt.xlabel('Proporción de Tarjetas Rojas')\n",
    "plt.ylabel('Equipo')\n",
    "plt.title('Top 10 Equipos con Mayor Proporción de Tarjetas Rojas respecto a Minutos Jugados')\n",
    "\n",
    "plt.show()"
   ]
  },
  {
   "cell_type": "markdown",
   "metadata": {},
   "source": [
    "*       3-Explorar la relación entre la edad y el número de premios ganados por los jugadores."
   ]
  },
  {
   "cell_type": "code",
   "execution_count": 19,
   "metadata": {},
   "outputs": [
    {
     "ename": "NameError",
     "evalue": "name 'df_edadPremios' is not defined",
     "output_type": "error",
     "traceback": [
      "\u001b[1;31m---------------------------------------------------------------------------\u001b[0m",
      "\u001b[1;31mNameError\u001b[0m                                 Traceback (most recent call last)",
      "Cell \u001b[1;32mIn[19], line 3\u001b[0m\n\u001b[0;32m      1\u001b[0m \u001b[38;5;66;03m# 3.Explorar la edad con los premios ganados.\u001b[39;00m\n\u001b[0;32m      2\u001b[0m \u001b[38;5;66;03m# edad y cantidad de premios recibidos, ordenados por la mayor edad a menor.\u001b[39;00m\n\u001b[1;32m----> 3\u001b[0m \u001b[43mdf_edadPremios\u001b[49m\u001b[38;5;241m.\u001b[39msort_values(by\u001b[38;5;241m=\u001b[39m[\u001b[38;5;124m'\u001b[39m\u001b[38;5;124mEdad\u001b[39m\u001b[38;5;124m'\u001b[39m], ascending\u001b[38;5;241m=\u001b[39m[\u001b[38;5;28;01mFalse\u001b[39;00m])\n",
      "\u001b[1;31mNameError\u001b[0m: name 'df_edadPremios' is not defined"
     ]
    }
   ],
   "source": [
    "# 3.Explorar la edad con los premios ganados.\n",
    "# edad y cantidad de premios recibidos, ordenados por la mayor edad a menor.\n",
    "df_edadPremios.sort_values(by=['Edad'], ascending=[False])"
   ]
  },
  {
   "cell_type": "code",
   "execution_count": 90,
   "metadata": {},
   "outputs": [
    {
     "data": {
      "image/png": "[encoded data removed]",
      "text/plain": [
       "<Figure size 1200x600 with 1 Axes>"
      ]
     },
     "metadata": {},
     "output_type": "display_data"
    }
   ],
   "source": [
    "df_edadPremios=df[['Edad','Premios']]\n",
    "\n",
    "# Crear el gráfico de barras, paso los valors del eje x e y\n",
    "plt.figure(figsize=(12, 6))\n",
    "sns.barplot(data=df_edadPremios, x='Edad', y='Premios', alpha=0.5)\n",
    "\n",
    "# Etiquetas y título\n",
    "plt.xlabel('Edad del Jugador')\n",
    "plt.ylabel('Número de Premios')\n",
    "plt.title('Relación entre Edad y Número de Premios Ganados por los Jugadores')\n",
    "\n",
    "# Ordenar las barras por edad\n",
    "plt.xticks(rotation=90)  \n",
    "plt.tight_layout()  \n",
    "plt.show()\n",
    "\n"
   ]
  },
  {
   "cell_type": "markdown",
   "metadata": {},
   "source": [
    "*       4-Investigar como influye la edad, y el valor actual del jugador, por posicion, en un equipo de futbol."
   ]
  },
  {
   "cell_type": "code",
   "execution_count": 91,
   "metadata": {},
   "outputs": [
    {
     "name": "stderr",
     "output_type": "stream",
     "text": [
      "C:\\Users\\Usuario\\AppData\\Local\\Temp\\ipykernel_17152\\3235770825.py:4: SettingWithCopyWarning: \n",
      "A value is trying to be set on a copy of a slice from a DataFrame.\n",
      "Try using .loc[row_indexer,col_indexer] = value instead\n",
      "\n",
      "See the caveats in the documentation: https://pandas.pydata.org/pandas-docs/stable/user_guide/indexing.html#returning-a-view-versus-a-copy\n",
      "  df_nuevo['Posicion']= df_nuevo['Posicion'].str.extract(r'^\\s*([^\\s-]+)')\n"
     ]
    },
    {
     "data": {
      "image/png": "[encoded data removed]",
      "text/plain": [
       "<Figure size 1200x1200 with 2 Axes>"
      ]
     },
     "metadata": {},
     "output_type": "display_data"
    }
   ],
   "source": [
    "df_nuevo=df[['Edad','Posicion','Valor Actual']]\n",
    "\n",
    "# normalizo las posiciones de juego \n",
    "df_nuevo['Posicion']= df_nuevo['Posicion'].str.extract(r'^\\s*([^\\s-]+)')\n",
    "\n",
    "# Calcular el promedio de la edad por posición\n",
    "promedio_edad_por_posicion = df_nuevo.groupby('Posicion')['Edad'].mean().reset_index()\n",
    "\n",
    "# Calcular el promedio del valor actual por posición\n",
    "promedio_valor_actual_por_posicion = df_nuevo.groupby('Posicion')['Valor Actual'].mean().reset_index()\n",
    "\n",
    "# Creacion los gráficos\n",
    "fig, axes = plt.subplots(2, 1, figsize=(12, 12))\n",
    "\n",
    "# Gráfico para el promedio de la edad por posición\n",
    "sns.barplot(x='Posicion', y='Edad', data=promedio_edad_por_posicion, ax=axes[0], palette='coolwarm')\n",
    "axes[0].set_title('Promedio de Edad por Posición')\n",
    "axes[0].set_xlabel('Posición')\n",
    "axes[0].set_ylabel('Edad')\n",
    "axes[0].tick_params(axis='x', rotation=45)\n",
    "\n",
    "# Gráfico para el promedio del valor actual por posición\n",
    "sns.barplot(x='Posicion', y='Valor Actual', data=promedio_valor_actual_por_posicion, ax=axes[1], palette='colorblind')\n",
    "axes[1].set_title('Promedio de Valor Actual por Posición')\n",
    "axes[1].set_xlabel('Posición')\n",
    "axes[1].set_ylabel('Valor Actual')\n",
    "axes[1].tick_params(axis='x', rotation=45)\n",
    "\n",
    "# Ajustar el diseño de los subgráficos\n",
    "plt.tight_layout()\n",
    "plt.show()\n",
    "\n"
   ]
  },
  {
   "cell_type": "markdown",
   "metadata": {},
   "source": [
    "*                       Conclusiones y apreciaciones del Analisis Exploratorio de datos."
   ]
  },
  {
   "cell_type": "markdown",
   "metadata": {},
   "source": [
    "*   La capacidad de un jugador para contribuir tanto con goles como con asistencias no solo resalta su destreza individual, sino también su habilidad para influir en el desempeño general del equipo, en este analisis, descubrimos que el jugador mas efectivo tanto en goles como asistencias es \"Rakan Al-Dosari, del equipo Al-Raed SFC, con 21 años de edad y un valor actual de $50,000 USD. ( importante oportunidad de negocio tanto en edad, como en bajo valor de compra.)\""
   ]
  },
  {
   "cell_type": "markdown",
   "metadata": {},
   "source": [
    "*  El análisis revela que 7 de los 10 equipos con más tarjetas rojas pertenecen a las ligas de fútbol de Argentina y Brasil. Esta tendencia sugiere la necesidad de una atención especial a posibles problemas de juego brusco, lo que podría tener implicancias en lesiones y otros aspectos asociados, destacando la importancia de abordar este tema para mejorar la seguridad y el fair play en el deporte."
   ]
  },
  {
   "cell_type": "markdown",
   "metadata": {},
   "source": [
    "* El análisis de la relación entre la edad de los jugadores y los premios por partido muestra una tendencia interesante: una baja tendencia hasta los 26 años, seguida de un ligero aumento entre los 27 y 32 años, y un incremento significativo a partir de los 33 años en adelante. Esto sugiere que la madurez futbolística tiende a desarrollarse después de los 25 años, destacando la importancia de la experiencia y la constancia en el desempeño de los jugadores a lo largo de sus carreras, y su consecuente  implicancia en el equipo."
   ]
  },
  {
   "cell_type": "markdown",
   "metadata": {},
   "source": [
    "* Basándonos en el análisis del promedio de edad y valor por posición, se destaca que la edad promedio de los jugadores se sitúa alrededor de los 25 años, con una leve inclinación hacia edades mayores en los arqueros y menores en los delanteros. Además, observamos que los delanteros son los jugadores con mayor valor promedio, seguidos por los centrocampistas, defensores y arqueros. Esta tendencia sugiere que, si bien la juventud puede ser un factor en ciertas posiciones, el valor económico tambien lo es, destacando la influencia decisiva de los delanteros y su consiguiente valor en el mercado futbolístico."
   ]
  },
  {
   "cell_type": "markdown",
   "metadata": {},
   "source": [
    "---------------------------------------------------------------------------------------------------"
   ]
  },
  {
   "cell_type": "markdown",
   "metadata": {},
   "source": [
    "*   _Aplicacion de Modelo de Machine Learning._"
   ]
  },
  {
   "cell_type": "markdown",
   "metadata": {},
   "source": [
    "* Después de completar el Análisis Exploratorio de Datos (EDA) y obtener una comprensión profunda de nuestro conjunto de datos del mundo del fútbol, aplicaremos un modelo de Machine Learning.\n",
    "* El modelo seleccionado para este análisis es el Random Forest Regressor, diseñado con el propósito de predecir el valor actual de un jugador en función de sus características individuales. "
   ]
  },
  {
   "cell_type": "markdown",
   "metadata": {},
   "source": [
    "*   _Random Forest Regressor_"
   ]
  },
  {
   "cell_type": "code",
   "execution_count": 20,
   "metadata": {},
   "outputs": [],
   "source": [
    "# copio el df original \n",
    "df_modelo=df.copy()"
   ]
  },
  {
   "cell_type": "code",
   "execution_count": 21,
   "metadata": {},
   "outputs": [],
   "source": [
    "# elimino la variable nombre, ya que no aporta informacion relevante, y es importante dejar las mas importantes.\n",
    "df_modelo.drop(columns =['Nombre'], axis=1, inplace=True)"
   ]
  },
  {
   "cell_type": "code",
   "execution_count": 22,
   "metadata": {},
   "outputs": [
    {
     "data": {
      "text/plain": [
       "Equipo                          0\n",
       "Posicion                        0\n",
       "Altura                          0\n",
       "Edad                            0\n",
       "Apariciones                     0\n",
       "Goles                           0\n",
       "Asistencias                     0\n",
       "Tarjetas Amarillas              0\n",
       "2da Tarjeta Amarillas           0\n",
       "Tarjetas Rojas                  0\n",
       "Goles Concedidos                0\n",
       "Valla Invicta                   0\n",
       "Minutos Jugados                 0\n",
       "Dias De baja por Lesion         0\n",
       "Partidos Perdidos por Lesion    0\n",
       "Premios                         0\n",
       "Valor Actual                    0\n",
       "Valor Maximo                    0\n",
       "Posicion Numero                 0\n",
       "Extremo                         0\n",
       "dtype: int64"
      ]
     },
     "execution_count": 22,
     "metadata": {},
     "output_type": "execute_result"
    }
   ],
   "source": [
    "# analizo y sumo, si existen valores faltantes\n",
    "df_modelo.isna().sum()"
   ]
  },
  {
   "cell_type": "code",
   "execution_count": 23,
   "metadata": {},
   "outputs": [
    {
     "data": {
      "text/plain": [
       "0"
      ]
     },
     "execution_count": 23,
     "metadata": {},
     "output_type": "execute_result"
    }
   ],
   "source": [
    "# controlo si hay valores duplicados.\n",
    "df_modelo.duplicated().sum()"
   ]
  },
  {
   "cell_type": "code",
   "execution_count": 24,
   "metadata": {},
   "outputs": [
    {
     "name": "stdout",
     "output_type": "stream",
     "text": [
      "<class 'pandas.core.frame.DataFrame'>\n",
      "RangeIndex: 10754 entries, 0 to 10753\n",
      "Data columns (total 20 columns):\n",
      " #   Column                        Non-Null Count  Dtype  \n",
      "---  ------                        --------------  -----  \n",
      " 0   Equipo                        10754 non-null  object \n",
      " 1   Posicion                      10754 non-null  object \n",
      " 2   Altura                        10754 non-null  float64\n",
      " 3   Edad                          10754 non-null  float64\n",
      " 4   Apariciones                   10754 non-null  int64  \n",
      " 5   Goles                         10754 non-null  float64\n",
      " 6   Asistencias                   10754 non-null  float64\n",
      " 7   Tarjetas Amarillas            10754 non-null  float64\n",
      " 8   2da Tarjeta Amarillas         10754 non-null  float64\n",
      " 9   Tarjetas Rojas                10754 non-null  float64\n",
      " 10  Goles Concedidos              10754 non-null  float64\n",
      " 11  Valla Invicta                 10754 non-null  float64\n",
      " 12  Minutos Jugados               10754 non-null  int64  \n",
      " 13  Dias De baja por Lesion       10754 non-null  int64  \n",
      " 14  Partidos Perdidos por Lesion  10754 non-null  int64  \n",
      " 15  Premios                       10754 non-null  int64  \n",
      " 16  Valor Actual                  10754 non-null  int64  \n",
      " 17  Valor Maximo                  10754 non-null  int64  \n",
      " 18  Posicion Numero               10754 non-null  int64  \n",
      " 19  Extremo                       10754 non-null  int64  \n",
      "dtypes: float64(9), int64(9), object(2)\n",
      "memory usage: 1.6+ MB\n"
     ]
    }
   ],
   "source": [
    "# vuelvo a ver tipos de datos del df_modelo\n",
    "df_modelo.info()"
   ]
  },
  {
   "cell_type": "code",
   "execution_count": 26,
   "metadata": {},
   "outputs": [],
   "source": [
    "# importo labelencoder para poder codificar\n",
    "from sklearn.preprocessing import LabelEncoder \n",
    "\n",
    "\n",
    "#Se crea un diccionario vacío llamado encoders el cual  almacenara objetos LabelEncoder para cada característica categórica.\n",
    "encoders = {}\n",
    "\n",
    "# variable que contiene los nombres de las variables categóricas que se desean codificar.\n",
    "# En este caso, son las características 'Equipo' y 'Posicion'.\n",
    "cat_features = ['Equipo', 'Posicion']\n",
    "for feature in cat_features: \n",
    "    # se aplica la codificaciones y se agrega una columna al final las categorias codificadas\n",
    "    encoders[feature] = LabelEncoder()\n",
    "    df_modelo[feature +\"_codificadas\"] = encoders[feature].fit_transform(df_modelo[feature])"
   ]
  },
  {
   "cell_type": "code",
   "execution_count": 27,
   "metadata": {},
   "outputs": [
    {
     "data": {
      "text/plain": [
       "0    9\n",
       "1    9\n",
       "Name: Posicion_codificadas, dtype: int32"
      ]
     },
     "execution_count": 27,
     "metadata": {},
     "output_type": "execute_result"
    }
   ],
   "source": [
    "# MUESTRO LA COLUMNA DE  CODIFICACION DE VARIABLES,\n",
    "df_modelo.Posicion_codificadas.head(2)"
   ]
  },
  {
   "cell_type": "code",
   "execution_count": 28,
   "metadata": {},
   "outputs": [
    {
     "data": {
      "image/png": "[encoded data removed]",
      "text/plain": [
       "<Figure size 640x480 with 2 Axes>"
      ]
     },
     "metadata": {},
     "output_type": "display_data"
    }
   ],
   "source": [
    "# SELECCION DE VARIABLES.\n",
    "\n",
    "# elimino las columnas equipo y posicion de campo, ya que necesito las codificadas ahora\n",
    "df_limpio = df_modelo.drop(columns=['Equipo', 'Posicion'], axis=1)\n",
    "\n",
    "# calculo la correlacion entre las caracteristicas y el valor actual, ordenando descendente\n",
    "corr = df_limpio.corr()['Valor Actual'].abs().sort_values(ascending=False)\n",
    "\n",
    "# grafico el mapa de calor de correcciones\n",
    "sns.heatmap(corr.to_frame(), annot=True, cmap='coolwarm' )\n",
    "plt.show()"
   ]
  },
  {
   "cell_type": "code",
   "execution_count": 29,
   "metadata": {},
   "outputs": [
    {
     "name": "stdout",
     "output_type": "stream",
     "text": [
      "Se eliminan estas caracteristicas: Index(['Equipo_codificadas'], dtype='object')\n"
     ]
    }
   ],
   "source": [
    "\n",
    "# defino un parametro para dejar las variables mas significativas\n",
    "threshold = .005\n",
    "\n",
    "# CORRELACION entre caracteristicas y valor actual\n",
    "corr = df_limpio.corr()['Valor Actual']\n",
    "\n",
    "# guardo en variable las caracteristicas que tienen baja correlacion\n",
    "caracteristicas_baja_corr = corr[abs(corr)<threshold].index\n",
    "print(f\"Se eliminan estas caracteristicas: {caracteristicas_baja_corr }\")\n",
    "\n",
    "# elimino las caracteristicas con baja correlacion, para ayudar a simplificar el modelo.\n",
    "df_limpio.drop(columns=caracteristicas_baja_corr, inplace=True)"
   ]
  },
  {
   "cell_type": "code",
   "execution_count": 31,
   "metadata": {},
   "outputs": [],
   "source": [
    "# importo la funcion para preparar los datos de entrenamiento.\n",
    "from sklearn.model_selection import train_test_split\n",
    "\n",
    "# divido los datos que voy a utilizar en  prueba  y entrenamiento, y le doy tamaño al test\n",
    "# elimino la variable que quiero predecir\n",
    "X_train, X_test, y_train, y_test = train_test_split(df_limpio.drop('Valor Actual', axis=1), df_limpio['Valor Actual'], test_size= .2)"
   ]
  },
  {
   "cell_type": "code",
   "execution_count": 32,
   "metadata": {},
   "outputs": [
    {
     "name": "stdout",
     "output_type": "stream",
     "text": [
      "Puntuación de rendimiento del modelo RandomForestRegressor:: 0.9155914155833569\n"
     ]
    }
   ],
   "source": [
    "# Entrenamiento y evaluacion \n",
    "from sklearn.pipeline import Pipeline \n",
    "from sklearn.preprocessing import StandardScaler\n",
    "from sklearn.ensemble import RandomForestRegressor\n",
    "from sklearn.metrics import r2_score\n",
    "\n",
    "# pipeline  etapa de escalado de características (preparar y normalizar el modelo)\n",
    "# modelo de Regresión con Bosques Aleatorios\n",
    "# cantidad de número de árboles de decisión que se utilizarán en el modelo.\n",
    "\n",
    "pipe = Pipeline([(\"scaler\", StandardScaler()), (\"regressor\", RandomForestRegressor(n_estimators=150))])\n",
    "\n",
    "# ajuste con datos de entrenamiento\n",
    "pipe.fit(X_train, y_train)\n",
    "\n",
    "# realizo predicciones \n",
    "y_pred = pipe.predict(X_test)\n",
    "\n",
    "# calculo el r2 con  los resultados obtenidos ( analizo  la calidad del modelo )\n",
    "r2_squared_score = r2_score(y_test, y_pred)\n",
    "\n",
    "# muestro puntaja de rendimiento deL MODELO.\n",
    "print(f\"Puntuación de rendimiento del modelo RandomForestRegressor:: {r2_squared_score}\")"
   ]
  },
  {
   "cell_type": "markdown",
   "metadata": {},
   "source": [
    "*   A continuacion vamos a hacer un grafico de prueba, que contraste los valores predictivos, con los valores reales."
   ]
  },
  {
   "cell_type": "code",
   "execution_count": 92,
   "metadata": {},
   "outputs": [
    {
     "data": {
      "image/png": "[encoded data removed]",
      "text/plain": [
       "<Figure size 1000x600 with 1 Axes>"
      ]
     },
     "metadata": {},
     "output_type": "display_data"
    }
   ],
   "source": [
    "\n",
    "# Crear una figura y ejes\n",
    "plt.figure(figsize=(10, 6))\n",
    "\n",
    "# Gráfico scatter para valores reales\n",
    "plt.scatter(y_test, y_test, color='red', label='Valores Reales')\n",
    "\n",
    "# Gráfico scatter para predicciones\n",
    "plt.scatter(y_test, y_pred, color='blue', label='Predicciones')\n",
    "\n",
    "# Línea diagonal de referencia\n",
    "plt.scatter([y_test.min(), y_test.max()], [y_test.min(), y_test.max()], color='gray', linestyle='--')\n",
    "\n",
    "# Etiquetas y título\n",
    "plt.xlabel('Valor Real')\n",
    "plt.ylabel('Predicción')\n",
    "plt.title('Predicciones vs Valores Reales')\n",
    "\n",
    "# Leyenda\n",
    "plt.legend()\n",
    "\n",
    "# Mostrar el gráfico\n",
    "plt.grid(True)\n",
    "plt.show()"
   ]
  },
  {
   "cell_type": "markdown",
   "metadata": {},
   "source": [
    "*       Conclusion del Random Forest Regressor"
   ]
  },
  {
   "cell_type": "markdown",
   "metadata": {},
   "source": [
    "*   Basándonos en el gráfico de dispersión que cruza los valores reales con las predicciones, se observa una cierta concordancia entre ambos, especialmente en la primera mitad de la línea. Esto sugiere que el modelo RandomForestRegressor tiene un buen desempeño en la predicción del valor objetivo. Además, la puntuación de rendimiento del modelo, que es de 0.880, respalda esta observación, indicando una alta correlación entre las predicciones y los valores reales"
   ]
  }
 ],
 "metadata": {
  "kernelspec": {
   "display_name": "Python 3",
   "language": "python",
   "name": "python3"
  },
  "language_info": {
   "codemirror_mode": {
    "name": "ipython",
    "version": 3
   },
   "file_extension": ".py",
   "mimetype": "text/x-python",
   "name": "python",
   "nbconvert_exporter": "python",
   "pygments_lexer": "ipython3",
   "version": "3.11.1"
  }
 },
 "nbformat": 4,
 "nbformat_minor": 2
}
